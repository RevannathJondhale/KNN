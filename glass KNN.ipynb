{
 "cells": [
  {
   "cell_type": "code",
   "execution_count": 1,
   "id": "5e727776",
   "metadata": {},
   "outputs": [],
   "source": [
    "## Revannath Assignent for the KNN"
   ]
  },
  {
   "cell_type": "code",
   "execution_count": 2,
   "id": "ae8cc1a7",
   "metadata": {},
   "outputs": [],
   "source": [
    "## Import the required libraries"
   ]
  },
  {
   "cell_type": "code",
   "execution_count": 3,
   "id": "cb56c614",
   "metadata": {},
   "outputs": [],
   "source": [
    "import pandas as pd"
   ]
  },
  {
   "cell_type": "code",
   "execution_count": 4,
   "id": "d3362abf",
   "metadata": {},
   "outputs": [],
   "source": [
    "import numpy as np"
   ]
  },
  {
   "cell_type": "code",
   "execution_count": 5,
   "id": "6e6c0af1",
   "metadata": {},
   "outputs": [],
   "source": [
    "glass= pd.read_csv('C:/Users/hp/Desktop/Revannath Data Sci/Assignments/13-KNN/glass.csv')"
   ]
  },
  {
   "cell_type": "code",
   "execution_count": 6,
   "id": "5753278f",
   "metadata": {},
   "outputs": [
    {
     "data": {
      "text/html": [
       "<div>\n",
       "<style scoped>\n",
       "    .dataframe tbody tr th:only-of-type {\n",
       "        vertical-align: middle;\n",
       "    }\n",
       "\n",
       "    .dataframe tbody tr th {\n",
       "        vertical-align: top;\n",
       "    }\n",
       "\n",
       "    .dataframe thead th {\n",
       "        text-align: right;\n",
       "    }\n",
       "</style>\n",
       "<table border=\"1\" class=\"dataframe\">\n",
       "  <thead>\n",
       "    <tr style=\"text-align: right;\">\n",
       "      <th></th>\n",
       "      <th>RI</th>\n",
       "      <th>Na</th>\n",
       "      <th>Mg</th>\n",
       "      <th>Al</th>\n",
       "      <th>Si</th>\n",
       "      <th>K</th>\n",
       "      <th>Ca</th>\n",
       "      <th>Ba</th>\n",
       "      <th>Fe</th>\n",
       "      <th>Type</th>\n",
       "    </tr>\n",
       "  </thead>\n",
       "  <tbody>\n",
       "    <tr>\n",
       "      <th>0</th>\n",
       "      <td>1.52101</td>\n",
       "      <td>13.64</td>\n",
       "      <td>4.49</td>\n",
       "      <td>1.10</td>\n",
       "      <td>71.78</td>\n",
       "      <td>0.06</td>\n",
       "      <td>8.75</td>\n",
       "      <td>0.00</td>\n",
       "      <td>0.0</td>\n",
       "      <td>1</td>\n",
       "    </tr>\n",
       "    <tr>\n",
       "      <th>1</th>\n",
       "      <td>1.51761</td>\n",
       "      <td>13.89</td>\n",
       "      <td>3.60</td>\n",
       "      <td>1.36</td>\n",
       "      <td>72.73</td>\n",
       "      <td>0.48</td>\n",
       "      <td>7.83</td>\n",
       "      <td>0.00</td>\n",
       "      <td>0.0</td>\n",
       "      <td>1</td>\n",
       "    </tr>\n",
       "    <tr>\n",
       "      <th>2</th>\n",
       "      <td>1.51618</td>\n",
       "      <td>13.53</td>\n",
       "      <td>3.55</td>\n",
       "      <td>1.54</td>\n",
       "      <td>72.99</td>\n",
       "      <td>0.39</td>\n",
       "      <td>7.78</td>\n",
       "      <td>0.00</td>\n",
       "      <td>0.0</td>\n",
       "      <td>1</td>\n",
       "    </tr>\n",
       "    <tr>\n",
       "      <th>3</th>\n",
       "      <td>1.51766</td>\n",
       "      <td>13.21</td>\n",
       "      <td>3.69</td>\n",
       "      <td>1.29</td>\n",
       "      <td>72.61</td>\n",
       "      <td>0.57</td>\n",
       "      <td>8.22</td>\n",
       "      <td>0.00</td>\n",
       "      <td>0.0</td>\n",
       "      <td>1</td>\n",
       "    </tr>\n",
       "    <tr>\n",
       "      <th>4</th>\n",
       "      <td>1.51742</td>\n",
       "      <td>13.27</td>\n",
       "      <td>3.62</td>\n",
       "      <td>1.24</td>\n",
       "      <td>73.08</td>\n",
       "      <td>0.55</td>\n",
       "      <td>8.07</td>\n",
       "      <td>0.00</td>\n",
       "      <td>0.0</td>\n",
       "      <td>1</td>\n",
       "    </tr>\n",
       "    <tr>\n",
       "      <th>...</th>\n",
       "      <td>...</td>\n",
       "      <td>...</td>\n",
       "      <td>...</td>\n",
       "      <td>...</td>\n",
       "      <td>...</td>\n",
       "      <td>...</td>\n",
       "      <td>...</td>\n",
       "      <td>...</td>\n",
       "      <td>...</td>\n",
       "      <td>...</td>\n",
       "    </tr>\n",
       "    <tr>\n",
       "      <th>209</th>\n",
       "      <td>1.51623</td>\n",
       "      <td>14.14</td>\n",
       "      <td>0.00</td>\n",
       "      <td>2.88</td>\n",
       "      <td>72.61</td>\n",
       "      <td>0.08</td>\n",
       "      <td>9.18</td>\n",
       "      <td>1.06</td>\n",
       "      <td>0.0</td>\n",
       "      <td>7</td>\n",
       "    </tr>\n",
       "    <tr>\n",
       "      <th>210</th>\n",
       "      <td>1.51685</td>\n",
       "      <td>14.92</td>\n",
       "      <td>0.00</td>\n",
       "      <td>1.99</td>\n",
       "      <td>73.06</td>\n",
       "      <td>0.00</td>\n",
       "      <td>8.40</td>\n",
       "      <td>1.59</td>\n",
       "      <td>0.0</td>\n",
       "      <td>7</td>\n",
       "    </tr>\n",
       "    <tr>\n",
       "      <th>211</th>\n",
       "      <td>1.52065</td>\n",
       "      <td>14.36</td>\n",
       "      <td>0.00</td>\n",
       "      <td>2.02</td>\n",
       "      <td>73.42</td>\n",
       "      <td>0.00</td>\n",
       "      <td>8.44</td>\n",
       "      <td>1.64</td>\n",
       "      <td>0.0</td>\n",
       "      <td>7</td>\n",
       "    </tr>\n",
       "    <tr>\n",
       "      <th>212</th>\n",
       "      <td>1.51651</td>\n",
       "      <td>14.38</td>\n",
       "      <td>0.00</td>\n",
       "      <td>1.94</td>\n",
       "      <td>73.61</td>\n",
       "      <td>0.00</td>\n",
       "      <td>8.48</td>\n",
       "      <td>1.57</td>\n",
       "      <td>0.0</td>\n",
       "      <td>7</td>\n",
       "    </tr>\n",
       "    <tr>\n",
       "      <th>213</th>\n",
       "      <td>1.51711</td>\n",
       "      <td>14.23</td>\n",
       "      <td>0.00</td>\n",
       "      <td>2.08</td>\n",
       "      <td>73.36</td>\n",
       "      <td>0.00</td>\n",
       "      <td>8.62</td>\n",
       "      <td>1.67</td>\n",
       "      <td>0.0</td>\n",
       "      <td>7</td>\n",
       "    </tr>\n",
       "  </tbody>\n",
       "</table>\n",
       "<p>214 rows × 10 columns</p>\n",
       "</div>"
      ],
      "text/plain": [
       "          RI     Na    Mg    Al     Si     K    Ca    Ba   Fe  Type\n",
       "0    1.52101  13.64  4.49  1.10  71.78  0.06  8.75  0.00  0.0     1\n",
       "1    1.51761  13.89  3.60  1.36  72.73  0.48  7.83  0.00  0.0     1\n",
       "2    1.51618  13.53  3.55  1.54  72.99  0.39  7.78  0.00  0.0     1\n",
       "3    1.51766  13.21  3.69  1.29  72.61  0.57  8.22  0.00  0.0     1\n",
       "4    1.51742  13.27  3.62  1.24  73.08  0.55  8.07  0.00  0.0     1\n",
       "..       ...    ...   ...   ...    ...   ...   ...   ...  ...   ...\n",
       "209  1.51623  14.14  0.00  2.88  72.61  0.08  9.18  1.06  0.0     7\n",
       "210  1.51685  14.92  0.00  1.99  73.06  0.00  8.40  1.59  0.0     7\n",
       "211  1.52065  14.36  0.00  2.02  73.42  0.00  8.44  1.64  0.0     7\n",
       "212  1.51651  14.38  0.00  1.94  73.61  0.00  8.48  1.57  0.0     7\n",
       "213  1.51711  14.23  0.00  2.08  73.36  0.00  8.62  1.67  0.0     7\n",
       "\n",
       "[214 rows x 10 columns]"
      ]
     },
     "execution_count": 6,
     "metadata": {},
     "output_type": "execute_result"
    }
   ],
   "source": [
    "glass"
   ]
  },
  {
   "cell_type": "code",
   "execution_count": 7,
   "id": "2d7262f6",
   "metadata": {},
   "outputs": [],
   "source": [
    "### Data is looking good no need to do the addtional changes for now"
   ]
  },
  {
   "cell_type": "code",
   "execution_count": 8,
   "id": "b6c5f3c3",
   "metadata": {},
   "outputs": [],
   "source": [
    "## now split the data in train and test data"
   ]
  },
  {
   "cell_type": "code",
   "execution_count": 9,
   "id": "7cd50472",
   "metadata": {},
   "outputs": [],
   "source": [
    "from sklearn.model_selection import train_test_split"
   ]
  },
  {
   "cell_type": "code",
   "execution_count": 10,
   "id": "df56b5a7",
   "metadata": {},
   "outputs": [],
   "source": [
    "glass_train,glass_test = train_test_split(glass,test_size = 0.2)"
   ]
  },
  {
   "cell_type": "code",
   "execution_count": 11,
   "id": "6b6329a2",
   "metadata": {},
   "outputs": [],
   "source": [
    "###splitting data into 80% and 20% ratio combination "
   ]
  },
  {
   "cell_type": "code",
   "execution_count": 12,
   "id": "d65d5190",
   "metadata": {},
   "outputs": [],
   "source": [
    "## Using KNN"
   ]
  },
  {
   "cell_type": "code",
   "execution_count": 13,
   "id": "40c4508d",
   "metadata": {},
   "outputs": [],
   "source": [
    "## import sklearn library "
   ]
  },
  {
   "cell_type": "code",
   "execution_count": 14,
   "id": "40507751",
   "metadata": {},
   "outputs": [],
   "source": [
    "from sklearn.neighbors import KNeighborsClassifier as KNC"
   ]
  },
  {
   "cell_type": "code",
   "execution_count": 15,
   "id": "8b17a938",
   "metadata": {},
   "outputs": [
    {
     "data": {
      "text/plain": [
       "(214, 10)"
      ]
     },
     "execution_count": 15,
     "metadata": {},
     "output_type": "execute_result"
    }
   ],
   "source": [
    "glass.shape"
   ]
  },
  {
   "cell_type": "code",
   "execution_count": 16,
   "id": "79dbfaaf",
   "metadata": {},
   "outputs": [],
   "source": [
    "glass_neighbors = KNC(n_neighbors = 3)  ###check  For 3 nearest neighbors"
   ]
  },
  {
   "cell_type": "code",
   "execution_count": 17,
   "id": "6809cbdb",
   "metadata": {},
   "outputs": [],
   "source": [
    "#fitting the zoo_neighbors with training data"
   ]
  },
  {
   "cell_type": "code",
   "execution_count": 18,
   "id": "a347b9bd",
   "metadata": {},
   "outputs": [
    {
     "data": {
      "text/plain": [
       "KNeighborsClassifier(n_neighbors=3)"
      ]
     },
     "execution_count": 18,
     "metadata": {},
     "output_type": "execute_result"
    }
   ],
   "source": [
    "glass_neighbors.fit(glass_train.iloc[:,0:9],glass_train.iloc[:,9])"
   ]
  },
  {
   "cell_type": "code",
   "execution_count": 19,
   "id": "d7ea3713",
   "metadata": {},
   "outputs": [],
   "source": [
    "train_accuracy = np.mean(glass_neighbors.predict(glass_train.iloc[:,0:9])==glass_train.iloc[:,9])"
   ]
  },
  {
   "cell_type": "code",
   "execution_count": 20,
   "id": "af05a1a3",
   "metadata": {},
   "outputs": [
    {
     "data": {
      "text/plain": [
       "0.8245614035087719"
      ]
     },
     "execution_count": 20,
     "metadata": {},
     "output_type": "execute_result"
    }
   ],
   "source": [
    "train_accuracy##For train test"
   ]
  },
  {
   "cell_type": "code",
   "execution_count": 21,
   "id": "13b16c17",
   "metadata": {},
   "outputs": [],
   "source": [
    "##The accuarcay ==0.8245614035087719"
   ]
  },
  {
   "cell_type": "code",
   "execution_count": 22,
   "id": "db969efe",
   "metadata": {},
   "outputs": [],
   "source": [
    "#Getting test accuracy"
   ]
  },
  {
   "cell_type": "code",
   "execution_count": 23,
   "id": "0f3ef2a3",
   "metadata": {},
   "outputs": [],
   "source": [
    "test_accuracy = np.mean(glass_neighbors.predict(glass_test.iloc[:,0:9])==glass_test.iloc[:,9])"
   ]
  },
  {
   "cell_type": "code",
   "execution_count": 24,
   "id": "7a71d5fe",
   "metadata": {},
   "outputs": [
    {
     "data": {
      "text/plain": [
       "0.6744186046511628"
      ]
     },
     "execution_count": 24,
     "metadata": {},
     "output_type": "execute_result"
    }
   ],
   "source": [
    "test_accuracy"
   ]
  },
  {
   "cell_type": "code",
   "execution_count": 25,
   "id": "2ae253d5",
   "metadata": {},
   "outputs": [],
   "source": [
    "## The Accuracy=0.6744186046511628"
   ]
  },
  {
   "cell_type": "code",
   "execution_count": 26,
   "id": "b0f8f20e",
   "metadata": {},
   "outputs": [],
   "source": [
    "## for more result "
   ]
  },
  {
   "cell_type": "code",
   "execution_count": 27,
   "id": "d240e17c",
   "metadata": {},
   "outputs": [],
   "source": [
    "accuracy = []"
   ]
  },
  {
   "cell_type": "code",
   "execution_count": 28,
   "id": "330bd3a2",
   "metadata": {},
   "outputs": [],
   "source": [
    "for i in range(3,50):\n",
    "    glass_neighbors = KNC(n_neighbors = i)\n",
    "    glass_neighbors.fit(glass_train.iloc[:,0:9],glass_train.iloc[:,9])\n",
    "    train_accuracy = np.mean(glass_neighbors.predict(glass_train.iloc[:,0:9])==glass_train.iloc[:,9])\n",
    "    test_accuracy = np.mean(glass_neighbors.predict(glass_test.iloc[:,0:9])==glass_test.iloc[:,9])\n",
    "    accuracy.append([train_accuracy,test_accuracy])"
   ]
  },
  {
   "cell_type": "code",
   "execution_count": 29,
   "id": "88ad192c",
   "metadata": {},
   "outputs": [],
   "source": [
    "import matplotlib.pyplot as plt"
   ]
  },
  {
   "cell_type": "code",
   "execution_count": 30,
   "id": "d2ddb43d",
   "metadata": {},
   "outputs": [],
   "source": [
    "#Plot for train accuracy"
   ]
  },
  {
   "cell_type": "code",
   "execution_count": 31,
   "id": "392e308a",
   "metadata": {},
   "outputs": [
    {
     "data": {
      "text/plain": [
       "[<matplotlib.lines.Line2D at 0x13e1d8e7d90>]"
      ]
     },
     "execution_count": 31,
     "metadata": {},
     "output_type": "execute_result"
    },
    {
     "data": {
      "image/png": "[encoded data removed]",
      "text/plain": [
       "<Figure size 432x288 with 1 Axes>"
      ]
     },
     "metadata": {
      "needs_background": "light"
     },
     "output_type": "display_data"
    }
   ],
   "source": [
    "plt.plot(np.arange(3,50),[i[0] for i in accuracy], \"bo-\")"
   ]
  },
  {
   "cell_type": "code",
   "execution_count": 32,
   "id": "048bbed6",
   "metadata": {},
   "outputs": [
    {
     "data": {
      "text/plain": [
       "<matplotlib.legend.Legend at 0x13e1d9cb160>"
      ]
     },
     "execution_count": 32,
     "metadata": {},
     "output_type": "execute_result"
    },
    {
     "data": {
      "image/png": "[encoded data removed]",
      "text/plain": [
       "<Figure size 432x288 with 1 Axes>"
      ]
     },
     "metadata": {
      "needs_background": "light"
     },
     "output_type": "display_data"
    }
   ],
   "source": [
    "plt.legend([\"glass_train\",\"glass_test\"])"
   ]
  },
  {
   "cell_type": "code",
   "execution_count": 33,
   "id": "4e449742",
   "metadata": {},
   "outputs": [],
   "source": [
    "###Testing accuracy plot"
   ]
  },
  {
   "cell_type": "code",
   "execution_count": 34,
   "id": "5ce38972",
   "metadata": {},
   "outputs": [
    {
     "data": {
      "text/plain": [
       "[<matplotlib.lines.Line2D at 0x13e1da2d280>]"
      ]
     },
     "execution_count": 34,
     "metadata": {},
     "output_type": "execute_result"
    },
    {
     "data": {
      "image/png": "[encoded data removed]",
      "text/plain": [
       "<Figure size 432x288 with 1 Axes>"
      ]
     },
     "metadata": {
      "needs_background": "light"
     },
     "output_type": "display_data"
    }
   ],
   "source": [
    "plt.plot(np.arange(3,50),[i[0] for i in accuracy],\"ro-\")"
   ]
  },
  {
   "cell_type": "code",
   "execution_count": 35,
   "id": "d7543eeb",
   "metadata": {},
   "outputs": [
    {
     "data": {
      "text/plain": [
       "<matplotlib.legend.Legend at 0x13e1da46be0>"
      ]
     },
     "execution_count": 35,
     "metadata": {},
     "output_type": "execute_result"
    },
    {
     "data": {
      "image/png": "[encoded data removed]",
      "text/plain": [
       "<Figure size 432x288 with 1 Axes>"
      ]
     },
     "metadata": {
      "needs_background": "light"
     },
     "output_type": "display_data"
    }
   ],
   "source": [
    "plt.legend([\"glass_train\",\"glass_test\"])"
   ]
  },
  {
   "cell_type": "code",
   "execution_count": null,
   "id": "c1febd5b",
   "metadata": {},
   "outputs": [],
   "source": [
    "# graph shows that k value of 3 has the highest accuracy and hence we will consider 3 for our final k value"
   ]
  }
 ],
 "metadata": {
  "kernelspec": {
   "display_name": "Python 3",
   "language": "python",
   "name": "python3"
  },
  "language_info": {
   "codemirror_mode": {
    "name": "ipython",
    "version": 3
   },
   "file_extension": ".py",
   "mimetype": "text/x-python",
   "name": "python",
   "nbconvert_exporter": "python",
   "pygments_lexer": "ipython3",
   "version": "3.8.8"
  }
 },
 "nbformat": 4,
 "nbformat_minor": 5
}
